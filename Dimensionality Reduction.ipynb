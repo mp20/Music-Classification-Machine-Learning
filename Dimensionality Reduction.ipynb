{
 "cells": [
  {
   "cell_type": "code",
   "execution_count": 2,
   "id": "1a29ebea-6310-4b6f-8a27-ff94418581b7",
   "metadata": {},
   "outputs": [],
   "source": [
    "import pandas as pd\n",
    "from sklearn.decomposition import PCA\n",
    "from sklearn.preprocessing import StandardScaler\n",
    "\n",
    "# Load the Original_format of the data (no dimensionality reduction applied)\n",
    "df = pd.read_csv('/Users/nikanhassanipak/Library/Mobile Documents/com~apple~CloudDocs/Georgia Tech/Spring 2024/CS 4641/Project/Original_format.csv')\n",
    "\n",
    "# Separate out the features from the identifiers and genre\n",
    "features = df.drop(['filename', 'base_name', 'genre'], axis=1)  # Assuming 'genre' is also a column you'd like to exclude\n",
    "identifiers = df[['filename', 'base_name', 'genre']]\n",
    "\n",
    "# Standardize the features\n",
    "scaler = StandardScaler()\n",
    "features_scaled = scaler.fit_transform(features)\n",
    "\n",
    "# Apply PCA to capture 90% of the variance\n",
    "pca = PCA(n_components=0.95)\n",
    "PCs = pca.fit_transform(features_scaled)\n",
    "\n",
    "# Create a DataFrame for the PCA components\n",
    "pca_df = pd.DataFrame(data=PCs, columns=[f'PC{i+1}' for i in range(PCs.shape[1])])\n",
    "\n",
    "# Concatenate the identifiers/genre and PCA dataframes\n",
    "pca_df = pd.concat([identifiers, pca_df], axis=1)\n",
    "\n",
    "# Write the DataFrame to a CSV file \n",
    "pca_df.to_csv('PCA_format.csv', index=False)\n",
    "\n"
   ]
  },
  {
   "cell_type": "code",
   "execution_count": 25,
   "id": "0310c01a-98f4-45bb-b54c-b3f0fa1b5c76",
   "metadata": {},
   "outputs": [],
   "source": [
    "from sklearn.discriminant_analysis import LinearDiscriminantAnalysis as LDA\n",
    "\n",
    "features = df.drop(['filename', 'base_name', 'genre'], axis=1)\n",
    "identifiers = df[['filename', 'base_name', 'genre']]\n",
    "\n",
    "# Standardize the features\n",
    "scaler = StandardScaler()\n",
    "features_scaled = scaler.fit_transform(features)\n",
    "\n",
    "# Initialize the linear discriminants\n",
    "lda = LDA()\n",
    "LDs = lda.fit_transform(features_scaled, df['genre'])\n",
    "\n",
    "# Create a DataFrame for the linear discriminants, where will have the maximum n-1 linear discriminants, where n is the number of classes (in this vase, 10 genres)\n",
    "lda_df = pd.DataFrame(data=LDs, columns=[f'LD{i+1}' for i in range(9)])\n",
    "\n",
    "# Concatenate the identifiers/genre and LDA components\n",
    "LDA_df = pd.concat([identifiers, lda_df], axis=1)\n",
    "\n",
    "# Write the DataFrame to a CSV file\n",
    "LDA_df.to_csv('LDA_format.csv', index=False)"
   ]
  }
 ],
 "metadata": {
  "kernelspec": {
   "display_name": "Python 3 (ipykernel)",
   "language": "python",
   "name": "python3"
  },
  "language_info": {
   "codemirror_mode": {
    "name": "ipython",
    "version": 3
   },
   "file_extension": ".py",
   "mimetype": "text/x-python",
   "name": "python",
   "nbconvert_exporter": "python",
   "pygments_lexer": "ipython3",
   "version": "3.10.12"
  }
 },
 "nbformat": 4,
 "nbformat_minor": 5
}
